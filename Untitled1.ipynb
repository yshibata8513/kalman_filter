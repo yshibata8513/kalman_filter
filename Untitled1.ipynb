{
 "cells": [
  {
   "cell_type": "code",
   "execution_count": 2,
   "metadata": {},
   "outputs": [
    {
     "data": {
      "text/plain": [
       "[<matplotlib.lines.Line2D at 0x1ac4e1ebd68>]"
      ]
     },
     "execution_count": 2,
     "metadata": {},
     "output_type": "execute_result"
    },
    {
     "data": {
      "image/png": "[encoded data removed]",
      "text/plain": [
       "<Figure size 432x288 with 1 Axes>"
      ]
     },
     "metadata": {
      "needs_background": "light"
     },
     "output_type": "display_data"
    }
   ],
   "source": [
    "import torch\n",
    "import torch.nn as nn\n",
    "import numpy as np\n",
    "import matplotlib.pyplot as plt\n",
    "import  sys\n",
    "sys.path.append(\"./src\")\n",
    "from models import *\n",
    "from kf import *\n",
    "\n",
    "class Kinematic_1d(BasePlantModel):\n",
    "    def __init__(self):\n",
    "        super().__init__(use_control=True,Q=torch.FloatTensor([[0.01,0],[0.,0.01]]))\n",
    "        self.dim_state = 2\n",
    "        self.dim_control = 1\n",
    "        self._F = torch.FloatTensor([[0,1],[0,0]])\n",
    "        self._B = torch.FloatTensor([0,1]).view(2,1)\n",
    "        #self._Q = torch.FloatTensor([[0.01,0],[0.,0.01]])\n",
    "        \n",
    "    def forward(self,state,control,dt):\n",
    "        F = self.F_(state,control,dt)\n",
    "        B = self.B_(state,control,dt)\n",
    "        return F@state + B@control\n",
    "        \n",
    "    #@property\n",
    "    def F_(self,state,control,dt):\n",
    "        return torch.eye(2) + self._F*dt\n",
    "        \n",
    "    #@property\n",
    "    def B_(self,state,control,dt):\n",
    "        return self._B*dt\n",
    " \n",
    "class ObsPosition_1d(BaseObserverModel):\n",
    "    def __init__(self,R=torch.FloatTensor([0.5])):\n",
    "        super().__init__(R)\n",
    "        self.dim_state = 2\n",
    "        self.dim_obs = 1\n",
    "        self._H = torch.FloatTensor([1,0]).view(1,-1)\n",
    "        #self._R = torch.FloatTensor([0.5])\n",
    "        \n",
    "    @property\n",
    "    def R(self):\n",
    "        return self._R\n",
    "    \n",
    "    def forward(self,state):\n",
    "        return self._H@state\n",
    "\n",
    "\n",
    "dt = 0.5\n",
    "x =  torch.arange(100)*dt + torch.randn(100)*0.5\n",
    "x[0] = 0\n",
    "v = torch.ones(100).float()\n",
    "states = torch.stack([x,v],dim=-1)\n",
    "controls = torch.zeros_like(x)\n",
    "observations = states[1:,0]\n",
    "\n",
    "P0 = torch.FloatTensor([[0.01,0],[0.,0.01]])\n",
    "s0 = states[0]\n",
    "c0 = controls[0]\n",
    "\n",
    "p_model = Kinematic_1d()\n",
    "o_model = ObsPosition_1d()\n",
    "kfc = KalmanFilterCalculator(p_model,o_model)\n",
    "kf = KalamanFilter(kfc)\n",
    "dts = torch.ones(99)*0.5\n",
    "\n",
    "Ss_p,Ps_p,Ss_f,Ps_f = kf.filtering(s0,P0,dts,observations)\n",
    "Ss_s,Ps_s =  kf.smoothing(Ss_p=Ss_p,Ps_p=Ps_p,Ss_f=Ss_f,Ps_f=Ps_f,dts=dts)\n",
    "\n",
    "plt.plot(Ss_f[1:21,0])\n",
    "plt.plot(Ss_s[1:21,0])\n",
    "plt.plot(observations[:20])\n",
    "\n",
    "\n",
    "\n",
    "\n",
    "\n",
    "\n",
    "\n"
   ]
  },
  {
   "cell_type": "code",
   "execution_count": null,
   "metadata": {},
   "outputs": [],
   "source": []
  }
 ],
 "metadata": {
  "kernelspec": {
   "display_name": "Python 3",
   "language": "python",
   "name": "python3"
  },
  "language_info": {
   "codemirror_mode": {
    "name": "ipython",
    "version": 3
   },
   "file_extension": ".py",
   "mimetype": "text/x-python",
   "name": "python",
   "nbconvert_exporter": "python",
   "pygments_lexer": "ipython3",
   "version": "3.7.3"
  }
 },
 "nbformat": 4,
 "nbformat_minor": 4
}
