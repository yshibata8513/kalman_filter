{
 "cells": [
  {
   "cell_type": "code",
   "execution_count": 1,
   "metadata": {},
   "outputs": [],
   "source": [
    "import sys\n",
    "sys.path.append(\"./src\")\n",
    "from euler_rotatin import *\n",
    "from kf import *\n",
    "from models import *\n",
    "from vehicle_model_3d import *"
   ]
  },
  {
   "cell_type": "code",
   "execution_count": null,
   "metadata": {},
   "outputs": [],
   "source": [
    "model = VehiclePlantModel()"
   ]
  },
  {
   "cell_type": "code",
   "execution_count": 2,
   "metadata": {},
   "outputs": [],
   "source": [
    "class GyroObserver(BaseObserverModel):\n",
    "    \n",
    "    def __init__(self,vehicle_model):\n",
    "        self.vehicle_model = vehicle_model\n",
    "        self.i2s = i2s\n",
    "    \n",
    "    \n",
    "    def forward(self,state):\n",
    "        Fx = self.vehicle_model.CalcLongitudialForce(state)\n",
    "        Fy = self.vehicle_model.CalcLateralForce(state)\n",
    "        _gravity = torch.Tensor([0,0,-g])\n",
    "        gravity = self.i2s(_gravity)\n",
    "        ax =  (Fx - gravity[0]).view(1)\n",
    "        ay =  (Fy - gravity[1]).view(1)\n",
    "        return torch.cat([ax,ay])\n",
    "        "
   ]
  },
  {
   "cell_type": "code",
   "execution_count": 4,
   "metadata": {},
   "outputs": [
    {
     "ename": "NameError",
     "evalue": "name 'BaseObserverModel' is not defined",
     "output_type": "error",
     "traceback": [
      "\u001b[1;31m---------------------------------------------------------------------------\u001b[0m",
      "\u001b[1;31mNameError\u001b[0m                                 Traceback (most recent call last)",
      "\u001b[1;32m<ipython-input-4-162f93c54112>\u001b[0m in \u001b[0;36m<module>\u001b[1;34m\u001b[0m\n\u001b[1;32m----> 1\u001b[1;33m \u001b[1;32mclass\u001b[0m \u001b[0mAccelemeterObserver_XY\u001b[0m\u001b[1;33m(\u001b[0m\u001b[0mBaseObserverModel\u001b[0m\u001b[1;33m)\u001b[0m\u001b[1;33m:\u001b[0m\u001b[1;33m\u001b[0m\u001b[1;33m\u001b[0m\u001b[0m\n\u001b[0m\u001b[0;32m      2\u001b[0m \u001b[1;33m\u001b[0m\u001b[0m\n\u001b[0;32m      3\u001b[0m     \u001b[1;32mdef\u001b[0m \u001b[0m__init__\u001b[0m\u001b[1;33m(\u001b[0m\u001b[0mself\u001b[0m\u001b[1;33m,\u001b[0m\u001b[0mvehicle_model\u001b[0m\u001b[1;33m,\u001b[0m\u001b[0mi2s\u001b[0m\u001b[1;33m)\u001b[0m\u001b[1;33m:\u001b[0m\u001b[1;33m\u001b[0m\u001b[1;33m\u001b[0m\u001b[0m\n\u001b[0;32m      4\u001b[0m         \u001b[0mself\u001b[0m\u001b[1;33m.\u001b[0m\u001b[0mvehicle_model\u001b[0m \u001b[1;33m=\u001b[0m \u001b[0mvehicle_model\u001b[0m\u001b[1;33m\u001b[0m\u001b[1;33m\u001b[0m\u001b[0m\n\u001b[0;32m      5\u001b[0m         \u001b[1;31m#self.i2s = i2s\u001b[0m\u001b[1;33m\u001b[0m\u001b[1;33m\u001b[0m\u001b[1;33m\u001b[0m\u001b[0m\n",
      "\u001b[1;31mNameError\u001b[0m: name 'BaseObserverModel' is not defined"
     ]
    }
   ],
   "source": [
    "class AccelemeterObserver_XY(BaseObserverModel):\n",
    "    \n",
    "    def __init__(self,vehicle_model,i2s):\n",
    "        self.vehicle_model = vehicle_model\n",
    "        #self.i2s = i2s\n",
    "    \n",
    "    \n",
    "    def forward(self,state,control):\n",
    "        \n",
    "        x_3d = state[p_x]\n",
    "        y_3d = state[p_y]\n",
    "        \n",
    "        \n",
    "        yaw = state[p_yaw]\n",
    "        pitch = state[p_pitch] \n",
    "        roll = state[p_roll]\n",
    "        \n",
    "        i2s = EulerRotationXYZ(yaw=yaw,pitch=pitch,roll=roll,train=False)\n",
    "        \n",
    "        M = self.vehicle_model.M\n",
    "        Fx = self.vehicle_model.CalcLongitudialForce(state,control)/M\n",
    "        Fy = self.vehicle_model.CalcLateralForce(state,control)/M\n",
    "        _gravity = torch.Tensor([0,0,-g])\n",
    "        gravity = i2s(_gravity)\n",
    "        gx,gy = gravity[0],gravity[1]\n",
    "        ax =  (Fx - gx).view(1)\n",
    "        ay =  (Fy - gy).view(1)\n",
    "        \n",
    "        return torch.cat([ax,ay])\n",
    "        "
   ]
  },
  {
   "cell_type": "code",
   "execution_count": null,
   "metadata": {},
   "outputs": [],
   "source": []
  },
  {
   "cell_type": "code",
   "execution_count": null,
   "metadata": {},
   "outputs": [],
   "source": [
    "#(in)x,y,yaw,pitch,roll,v,beta,yr\n",
    "#(out)x,y,yaw,speed,ax,ay,yr\n",
    "class VehicleObserver(BaseObserverModel):\n",
    "    def __init__(self,):\n",
    "        \n",
    "        \n",
    "        \n",
    "    def forward(self,state):\n",
    "        _x_2d = state[...,p_x]\n",
    "        _y_2d = state[...,p_x]\n",
    "        _yaw = state[...,p_x]\n",
    "        _pitch = state[...,p_x]\n",
    "        _roll = state[...,p_x]\n",
    "        _v_3d = state[...,p_x]\n",
    "        _beta_3d = \n",
    "        _yr_3d =\n",
    "        \n",
    "        yr_2d = \n",
    "        \n",
    "        #rtk_pos\n",
    "        x_2d_ = \n",
    "        y_2d_ = \n",
    "        yaw_ = \n",
    "        \n",
    "        #gps_speed\n",
    "        speed_ = _v_3d\n",
    "        \n",
    "        #imu\n",
    "        ay_ = \n",
    "        \n",
    "        \n",
    "        \n",
    "        \n",
    "        \n",
    "        \n",
    "\n",
    "    def \n",
    "        "
   ]
  },
  {
   "cell_type": "code",
   "execution_count": null,
   "metadata": {},
   "outputs": [],
   "source": []
  },
  {
   "cell_type": "code",
   "execution_count": null,
   "metadata": {},
   "outputs": [],
   "source": []
  }
 ],
 "metadata": {
  "kernelspec": {
   "display_name": "Python 3",
   "language": "python",
   "name": "python3"
  },
  "language_info": {
   "codemirror_mode": {
    "name": "ipython",
    "version": 3
   },
   "file_extension": ".py",
   "mimetype": "text/x-python",
   "name": "python",
   "nbconvert_exporter": "python",
   "pygments_lexer": "ipython3",
   "version": "3.7.3"
  }
 },
 "nbformat": 4,
 "nbformat_minor": 4
}
