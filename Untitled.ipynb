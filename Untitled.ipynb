{
 "cells": [
  {
   "cell_type": "code",
   "execution_count": 113,
   "metadata": {
    "colab": {},
    "colab_type": "code",
    "id": "_DippiVVsgC2"
   },
   "outputs": [],
   "source": [
    "import torch\n",
    "import torch.nn as nn\n",
    "import numpy as np"
   ]
  },
  {
   "cell_type": "code",
   "execution_count": 113,
   "metadata": {
    "colab": {},
    "colab_type": "code",
    "id": "FR7Pw52EsgC9"
   },
   "outputs": [],
   "source": []
  },
  {
   "cell_type": "code",
   "execution_count": 114,
   "metadata": {
    "colab": {},
    "colab_type": "code",
    "id": "dG7w7J7MsgDB"
   },
   "outputs": [],
   "source": [
    "class BasePlantModel(nn.Module):\n",
    "    \n",
    "    def __init__(self,use_control,Q):\n",
    "        super().__init__()\n",
    "        self.use_control = use_control\n",
    "        self._Q = Q\n",
    "    \n",
    "    def forward(self,**argv):\n",
    "        raise NotImplementedError()\n",
    "        \n",
    "    def F(self,state,control,dt):\n",
    "        _state = torch.nn.Parameter(state.data.clone())\n",
    "        if self.use_control:\n",
    "            control = control.data.clone()\n",
    "        state_ = self.forward(_state,control,dt)\n",
    "        F = torch.cat([torch.autograd.grad(outputs=s_, inputs=_state, create_graph=False, retain_graph=True)[0].view(1,-1) for s_ in state_],dim=0)\n",
    "        return F\n",
    "    \n",
    "    def B(self,state,control,dt):\n",
    "        if self.use_control==False:\n",
    "            return None\n",
    "        _state = state.data.clone()\n",
    "        control = torch.nn.Parameter(control.data.clone())\n",
    "        state_ = self.forward(_state,control,dt)\n",
    "        B = torch.cat([torch.autograd.grad(outputs=c, inputs=_state, create_graph=False, retain_graph=True)[0].view(1,-1) for c in control],dim=0)\n",
    "        return B\n",
    "\n",
    "    @property\n",
    "    def Q(self):\n",
    "        return self._Q.data.clone()"
   ]
  },
  {
   "cell_type": "code",
   "execution_count": 115,
   "metadata": {
    "colab": {},
    "colab_type": "code",
    "id": "755j5YIKsgDF"
   },
   "outputs": [],
   "source": [
    "class BaseObserverModel(nn.Module):\n",
    "    \n",
    "    def __init__(self,R):\n",
    "        super().__init__()\n",
    "        self._R = R\n",
    "    \n",
    "    def forward(self,**argv):\n",
    "        raise NotImplementedError()\n",
    "        \n",
    "    def H(self,state):\n",
    "        _state = torch.nn.Parameter(state.data.clone())\n",
    "\n",
    "        obs = self.forward(_state)\n",
    "        #H = torch.autograd.grad(outputs=obs, inputs=_state, create_graph=False)\n",
    "        H = torch.cat([torch.autograd.grad(outputs=o, inputs=_state, create_graph=False, retain_graph=True)[0].view(1,-1) for o in obs],dim=0)\n",
    "        return H\n",
    "    \n",
    "    @property\n",
    "    def R(self):\n",
    "        return self._R.data.clone()"
   ]
  },
  {
   "cell_type": "code",
   "execution_count": 116,
   "metadata": {
    "colab": {},
    "colab_type": "code",
    "id": "331kh9uEsgDJ"
   },
   "outputs": [],
   "source": [
    "class Kinematic_1d(BasePlantModel):\n",
    "    def __init__(self):\n",
    "        super().__init__(use_control=True,Q=torch.FloatTensor([[0.01,0],[0.,0.01]]))\n",
    "        self.dim_state = 2\n",
    "        self.dim_control = 1\n",
    "        self._F = torch.FloatTensor([[0,1],[0,0]])\n",
    "        self._B = torch.FloatTensor([0,1]).view(2,1)\n",
    "        #self._Q = torch.FloatTensor([[0.01,0],[0.,0.01]])\n",
    "        \n",
    "    def forward(self,state,control,dt):\n",
    "        F = self.F_(state,control,dt)\n",
    "        B = self.B_(state,control,dt)\n",
    "        return F@state + B@control\n",
    "        \n",
    "    #@property\n",
    "    def F_(self,state,control,dt):\n",
    "        return torch.eye(2) + self._F*dt\n",
    "        \n",
    "    #@property\n",
    "    def B_(self,state,control,dt):\n",
    "        return self._B*dt\n",
    "        \n",
    "#     @property\n",
    "#     def Q(self):\n",
    "#         return self._Q"
   ]
  },
  {
   "cell_type": "code",
   "execution_count": 117,
   "metadata": {
    "colab": {},
    "colab_type": "code",
    "id": "DaWUe37SsgDN"
   },
   "outputs": [],
   "source": [
    "class ObsPosition_1d(BaseObserverModel):\n",
    "    def __init__(self,R=torch.FloatTensor([0.5])):\n",
    "        super().__init__(R)\n",
    "        self.dim_state = 2\n",
    "        self.dim_obs = 1\n",
    "        self._H = torch.FloatTensor([1,0]).view(1,-1)\n",
    "        #self._R = torch.FloatTensor([0.5])\n",
    "        \n",
    "#     def H(self,state):\n",
    "#         return self._H\n",
    "\n",
    "    @property\n",
    "    def R(self):\n",
    "        return self._R\n",
    "    \n",
    "    def forward(self,state):\n",
    "        return self._H@state"
   ]
  },
  {
   "cell_type": "code",
   "execution_count": 117,
   "metadata": {
    "colab": {},
    "colab_type": "code",
    "id": "Er0LgDqIsgDQ"
   },
   "outputs": [],
   "source": []
  },
  {
   "cell_type": "code",
   "execution_count": 117,
   "metadata": {
    "colab": {},
    "colab_type": "code",
    "id": "CNzuIVirsgDW"
   },
   "outputs": [],
   "source": []
  },
  {
   "cell_type": "code",
   "execution_count": 117,
   "metadata": {
    "colab": {},
    "colab_type": "code",
    "id": "mc59bEnosgDa"
   },
   "outputs": [],
   "source": []
  },
  {
   "cell_type": "code",
   "execution_count": 117,
   "metadata": {
    "colab": {},
    "colab_type": "code",
    "id": "DnKrolg1sgDe"
   },
   "outputs": [],
   "source": []
  },
  {
   "cell_type": "code",
   "execution_count": 118,
   "metadata": {
    "colab": {},
    "colab_type": "code",
    "id": "mqOlgFx-sgDh"
   },
   "outputs": [],
   "source": [
    "class KalmanFilterCalculator(nn.Module):\n",
    "    def __init__(self,plant,observer):\n",
    "        super().__init__()\n",
    "        self.plant = plant\n",
    "        self.observer = observer\n",
    "    \n",
    "    def _prediction(self,_state,control,dt,_P):\n",
    "        state_ = self.plant(_state,control,dt)\n",
    "        F = self.plant.F(_state,control,dt)\n",
    "        Q = self.plant.Q\n",
    "        P_ = F@_P@F.T + Q\n",
    "        return state_,P_\n",
    "    \n",
    "    def _filtering(self,_state,control,dt,_P,obs):\n",
    "        \n",
    "        H = self.observer.H(_state)\n",
    "        R = self.observer.R\n",
    "        \n",
    "        K = _P@H.T@(H@_P@H.T + R).inverse()\n",
    "\n",
    "        obs_pred = self.observer(_state)\n",
    "        \n",
    "        state_ = _state + K@(obs - obs_pred)\n",
    "        P_ = _P - K@H@_P\n",
    "        \n",
    "        return state_,P_\n",
    "        \n",
    "        \n",
    "    def _smoothing(self,state_p,state_f,_state_s,control,P_p,P_f,_P_s,dt):\n",
    "        F = self.plant.F(state_f,control,dt)\n",
    "        A = P_f@F.T@P_p.inverse()\n",
    "        state_s_ = state_f +A@(_state_s - state_p)\n",
    "        P_s_ = P_f + A@(_P_s - P_p)@A.T\n",
    "        return state_s_,P_s_\n",
    "    \n",
    "    "
   ]
  },
  {
   "cell_type": "code",
   "execution_count": 119,
   "metadata": {
    "colab": {},
    "colab_type": "code",
    "id": "NM_StjQTsgDk"
   },
   "outputs": [],
   "source": [
    "class KalamanFilter:\n",
    "    def __init__(self,calculator):\n",
    "        self.calculator = calculator\n",
    "        \n",
    "    def filtering(self,s_init,P_init,dts,observations):\n",
    "        Ss_p = [s_init.view(-1,1)]\n",
    "        Ss_f = [s_init.view(-1,1)]\n",
    "        Ps_p = [P_init]\n",
    "        Ps_f = [P_init]\n",
    "        p = P_init\n",
    "        s = s_init\n",
    "        T = len(observations)\n",
    "        for t in range(T):\n",
    "            dt = dts[t]\n",
    "            obs = observations[t].view(-1,1)\n",
    "            s,p = self.calculator._prediction(s.view(-1,1),c0.view(-1,1),dt,p)\n",
    "            Ss_p.append(s.data.clone())\n",
    "            Ps_p.append(p.data.clone())\n",
    "\n",
    "            s,p = self.calculator._filtering(s.view(2,1),c0.view(1,1),dt,p,obs)\n",
    "            Ss_f.append(s.data.clone())\n",
    "            Ps_f.append(p.data.clone())\n",
    "        return Ss_p,Ps_p,Ss_f,Ps_f\n",
    "\n",
    "    def smoothing(self,Ss_p,Ss_f,Ps_p,Ps_f):\n",
    "        s = Ss_f[-1]\n",
    "        p = Ps_f[-1]\n",
    "        Ss_s = [Ss_f[-1]]\n",
    "        Ps_s = [Ps_f[-1]]\n",
    "        T = len(Ss_p) - 1\n",
    "        for _t in range(T):\n",
    "            t = T - _t \n",
    "\n",
    "            s_p = Ss_p[t]\n",
    "            s_f = Ss_f[t-1]\n",
    "            P_p = Ps_p[t]\n",
    "            P_f = Ps_f[t-1]\n",
    "            s,p = self.calculator._smoothing(s_p,s_f,s,c0.view(1,1),P_p,P_f,p,dt)\n",
    "            Ss_s.append(s.data.clone())\n",
    "            Ps_s.append(p.data.clone())\n",
    "        Ss_s = torch.stack(Ss_s,dim=0).view(-1,2).data.numpy()[::-1].copy()\n",
    "        return Ss_s,Ps_s \n",
    "    "
   ]
  },
  {
   "cell_type": "code",
   "execution_count": 120,
   "metadata": {
    "colab": {},
    "colab_type": "code",
    "id": "qrWDqCAosgDp"
   },
   "outputs": [],
   "source": [
    "dt = 0.5\n",
    "x =  torch.arange(100)*dt + torch.randn(100)*0.5\n",
    "x[0] = 0\n",
    "v = torch.ones(100).float()\n",
    "states = torch.stack([x,v],dim=-1)\n",
    "controls = torch.zeros_like(x)\n",
    "observations = states[1:,0]\n",
    "\n",
    "#states"
   ]
  },
  {
   "cell_type": "code",
   "execution_count": 121,
   "metadata": {
    "colab": {},
    "colab_type": "code",
    "id": "3I61bGUPsgDs"
   },
   "outputs": [],
   "source": [
    "P0 = torch.FloatTensor([[0.01,0],[0.,0.01]])\n",
    "s0 = states[0]\n",
    "c0 = controls[0]\n",
    "\n",
    "p_model = Kinematic_1d()\n",
    "o_model = ObsPosition_1d()\n",
    "kfc = KalmanFilterCalculator(p_model,o_model)\n",
    "kf = KalamanFilter(kfc)\n",
    "dts = torch.ones(99)*0.5"
   ]
  },
  {
   "cell_type": "code",
   "execution_count": 122,
   "metadata": {
    "colab": {},
    "colab_type": "code",
    "id": "2VUAH89dsgDw"
   },
   "outputs": [],
   "source": [
    "Ss_p,Ps_p,Ss_f,Ps_f = kf.filtering(s0,P0,dts,observations)\n",
    "Ss_s,Ps_s =  kf.smoothing(Ss_p=Ss_p,Ps_p=Ps_p,Ss_f=Ss_f,Ps_f=Ps_f)\n",
    "    "
   ]
  },
  {
   "cell_type": "code",
   "execution_count": 123,
   "metadata": {
    "colab": {},
    "colab_type": "code",
    "id": "14wR9EnZuVBN"
   },
   "outputs": [],
   "source": [
    "_Ss_p = torch.cat([s.view(1,-1) for s in Ss_p ],dim=0)\n",
    "_Ss_f = torch.cat([s.view(1,-1) for s in Ss_f],dim=0)\n",
    "_Ss_a = torch.arange(100)*dt"
   ]
  },
  {
   "cell_type": "code",
   "execution_count": 136,
   "metadata": {
    "colab": {
     "base_uri": "https://localhost:8080/",
     "height": 282
    },
    "colab_type": "code",
    "id": "yp93mDZywTil",
    "outputId": "02d93839-fbec-4eb4-9543-8d625f030498"
   },
   "outputs": [
    {
     "data": {
      "text/plain": [
       "[<matplotlib.lines.Line2D at 0x7fb0b8ab9748>]"
      ]
     },
     "execution_count": 136,
     "metadata": {
      "tags": []
     },
     "output_type": "execute_result"
    },
    {
     "data": {
      "image/png": "[encoded data removed]",
      "text/plain": [
       "<Figure size 432x288 with 1 Axes>"
      ]
     },
     "metadata": {
      "needs_background": "light",
      "tags": []
     },
     "output_type": "display_data"
    }
   ],
   "source": [
    "plt.plot(_Ss_f[1:21,0])\n",
    "plt.plot(_Ss_s[1:21,0]),len(_Ss_f),len(_Ss_s)\n",
    "plt.plot(observations[:20])"
   ]
  },
  {
   "cell_type": "code",
   "execution_count": 125,
   "metadata": {
    "colab": {
     "base_uri": "https://localhost:8080/",
     "height": 284
    },
    "colab_type": "code",
    "id": "6EzTUshqsgDz",
    "outputId": "02b29101-ce0e-43c8-9354-4c3d1d22386c"
   },
   "outputs": [
    {
     "data": {
      "text/plain": [
       "[<matplotlib.lines.Line2D at 0x7fb0b8c41828>]"
      ]
     },
     "execution_count": 125,
     "metadata": {
      "tags": []
     },
     "output_type": "execute_result"
    },
    {
     "data": {
      "image/png": "[encoded data removed]",
      "text/plain": [
       "<Figure size 432x288 with 1 Axes>"
      ]
     },
     "metadata": {
      "needs_background": "light",
      "tags": []
     },
     "output_type": "display_data"
    }
   ],
   "source": [
    "#_Ss_p = torch.cat(Ss_p[1:],dim=0)\n",
    "plt.plot(_Ss_p[1:20,0])\n",
    "plt.plot(_Ss_f[1:20,0])\n",
    "plt.plot(_Ss_a[1:20])\n",
    "plt.plot(observations[:19])"
   ]
  },
  {
   "cell_type": "code",
   "execution_count": 126,
   "metadata": {
    "colab": {},
    "colab_type": "code",
    "id": "4fr3xvgRsgD2"
   },
   "outputs": [],
   "source": [
    "# Ss_p = []\n",
    "# Ss_f = []\n",
    "# Ps_p = []\n",
    "# Ps_f = []\n",
    "# p = P0\n",
    "# s = s0\n",
    "# for t in range(100-1):\n",
    "#     s,p = kf._prediction(s.view(2,1),c0.view(1,1),dt,p)\n",
    "#     Ss_p.append(s.data.clone())\n",
    "#     Ps_p.append(p.data.clone())\n",
    "    \n",
    "#     s,p = kf._filtering(s.view(2,1),c0.view(1,1),dt,p,states[t+1,0].view(1,1))\n",
    "#     Ss_f.append(s.data.clone())\n",
    "#     Ps_f.append(p.data.clone())\n",
    "    \n",
    "# len(Ss_p),len(Ss_f),len(Ps_p),len(Ps_f)\n"
   ]
  },
  {
   "cell_type": "code",
   "execution_count": 127,
   "metadata": {
    "colab": {
     "base_uri": "https://localhost:8080/",
     "height": 87
    },
    "colab_type": "code",
    "id": "cbGj61TExx--",
    "outputId": "bfcc872e-93c1-490b-cac1-dce82ac332f9"
   },
   "outputs": [
    {
     "data": {
      "text/plain": [
       "(torch.Size([2, 1]),\n",
       " torch.Size([2, 1]),\n",
       " torch.Size([2, 1]),\n",
       " torch.Size([2, 1]))"
      ]
     },
     "execution_count": 127,
     "metadata": {
      "tags": []
     },
     "output_type": "execute_result"
    }
   ],
   "source": [
    "Ss_p[1].size(),Ss_p[2].size(),Ss_f[0].size(),Ss_f[1].size()"
   ]
  },
  {
   "cell_type": "code",
   "execution_count": 128,
   "metadata": {
    "colab": {},
    "colab_type": "code",
    "id": "KRWWlHkKsgD6"
   },
   "outputs": [],
   "source": [
    "s = Ss_f[-1]\n",
    "p = Ps_f[-1]\n",
    "Ss_s = [Ss_f[-1]]\n",
    "Ps_s = [Ps_f[-1]]\n",
    "\n",
    "for _t in range(99):\n",
    "    t = 99 - (_t )\n",
    "\n",
    "    \n",
    "\n",
    "    s_p = Ss_p[t]\n",
    "    s_f = Ss_f[t-1]\n",
    "    P_p = Ps_p[t]\n",
    "    P_f = Ps_f[t-1]\n",
    "    s,p = kfc._smoothing(s_p,s_f,s,c0.view(1,1),P_p,P_f,p,dt)\n",
    "    Ss_s.append(s.data.clone())\n",
    "\n",
    "\n",
    "    Ps_s.append(p.data.clone())\n",
    "\n"
   ]
  },
  {
   "cell_type": "code",
   "execution_count": 129,
   "metadata": {
    "colab": {},
    "colab_type": "code",
    "id": "eczLn2ThsgD_"
   },
   "outputs": [],
   "source": [
    "#_Ss_f = torch.cat([s.view(1,-1) for s in Ss_f],dim=0)\n"
   ]
  },
  {
   "cell_type": "code",
   "execution_count": 130,
   "metadata": {
    "colab": {
     "base_uri": "https://localhost:8080/",
     "height": 285
    },
    "colab_type": "code",
    "id": "Wf--w_JPsgED",
    "outputId": "e2815410-9b25-448a-8c71-24bc78b96fea"
   },
   "outputs": [
    {
     "data": {
      "text/plain": [
       "([<matplotlib.lines.Line2D at 0x7fb0b8c7b588>], 100, 100)"
      ]
     },
     "execution_count": 130,
     "metadata": {
      "tags": []
     },
     "output_type": "execute_result"
    },
    {
     "data": {
      "image/png": "[encoded data removed]",
      "text/plain": [
       "<Figure size 432x288 with 1 Axes>"
      ]
     },
     "metadata": {
      "needs_background": "light",
      "tags": []
     },
     "output_type": "display_data"
    }
   ],
   "source": [
    "plt.plot(_Ss_f[:20,0])\n",
    "plt.plot(_Ss_s[:20,0]),len(_Ss_f),len(_Ss_s)"
   ]
  },
  {
   "cell_type": "code",
   "execution_count": 131,
   "metadata": {
    "colab": {},
    "colab_type": "code",
    "id": "ee0DFCeSsgEG"
   },
   "outputs": [],
   "source": [
    "_Ss_s = torch.stack(Ss_s,dim=0).view(-1,2).data.numpy()[::-1].copy()\n",
    "_Ss_f = torch.stack(Ss_f,dim=0)\n"
   ]
  },
  {
   "cell_type": "code",
   "execution_count": 132,
   "metadata": {
    "colab": {
     "base_uri": "https://localhost:8080/",
     "height": 282
    },
    "colab_type": "code",
    "id": "yyXgqQhLsgEJ",
    "outputId": "44c879f2-30d9-4d51-f0a1-11fd1e5b60ab"
   },
   "outputs": [
    {
     "data": {
      "text/plain": [
       "[<matplotlib.lines.Line2D at 0x7fb0b8b8f4a8>]"
      ]
     },
     "execution_count": 132,
     "metadata": {
      "tags": []
     },
     "output_type": "execute_result"
    },
    {
     "data": {
      "image/png": "[encoded data removed]",
      "text/plain": [
       "<Figure size 432x288 with 1 Axes>"
      ]
     },
     "metadata": {
      "needs_background": "light",
      "tags": []
     },
     "output_type": "display_data"
    }
   ],
   "source": [
    "import matplotlib.pyplot as plt\n",
    "plt.plot(_Ss_s[:,0][:10])\n",
    "plt.plot(_Ss_f[:,0][:10])\n",
    "plt.plot(states[:,0][1:11])"
   ]
  },
  {
   "cell_type": "code",
   "execution_count": 133,
   "metadata": {
    "colab": {
     "base_uri": "https://localhost:8080/",
     "height": 34
    },
    "colab_type": "code",
    "id": "Pni4ksiPsgEM",
    "outputId": "54e7b59d-ded7-4ba5-c6c9-842599240118"
   },
   "outputs": [
    {
     "data": {
      "text/plain": [
       "100"
      ]
     },
     "execution_count": 133,
     "metadata": {
      "tags": []
     },
     "output_type": "execute_result"
    }
   ],
   "source": [
    "len(_Ss_s)"
   ]
  },
  {
   "cell_type": "code",
   "execution_count": 133,
   "metadata": {
    "colab": {},
    "colab_type": "code",
    "id": "-VLR488gsgEP"
   },
   "outputs": [],
   "source": []
  },
  {
   "cell_type": "code",
   "execution_count": 133,
   "metadata": {
    "colab": {},
    "colab_type": "code",
    "id": "h0NJ1jUosgEV"
   },
   "outputs": [],
   "source": []
  },
  {
   "cell_type": "code",
   "execution_count": 133,
   "metadata": {
    "colab": {},
    "colab_type": "code",
    "id": "R5eivKPtsgEY"
   },
   "outputs": [],
   "source": []
  }
 ],
 "metadata": {
  "colab": {
   "name": "Untitled.ipynb",
   "provenance": []
  },
  "kernelspec": {
   "display_name": "Python 3",
   "language": "python",
   "name": "python3"
  },
  "language_info": {
   "codemirror_mode": {
    "name": "ipython",
    "version": 3
   },
   "file_extension": ".py",
   "mimetype": "text/x-python",
   "name": "python",
   "nbconvert_exporter": "python",
   "pygments_lexer": "ipython3",
   "version": "3.7.3"
  }
 },
 "nbformat": 4,
 "nbformat_minor": 4
}
