{
 "cells": [
  {
   "cell_type": "code",
   "execution_count": 1,
   "metadata": {},
   "outputs": [],
   "source": [
    "import torch\n",
    "import torch.nn as nn\n",
    "import numpy as np"
   ]
  },
  {
   "cell_type": "code",
   "execution_count": 32,
   "metadata": {},
   "outputs": [],
   "source": [
    "class Kinematic_1d(nn.Module):\n",
    "    def __init__(self):\n",
    "        super().__init__()\n",
    "        self.dim_state = 2\n",
    "        self.dim_control = 1\n",
    "        self._F = torch.FloatTensor([[0,1],[0,0]])\n",
    "        self._B = torch.FloatTensor([0,1]).view(2,1)\n",
    "        self._Q = torch.FloatTensor([[0.01,0],[0.,0.01]])\n",
    "        \n",
    "    def forward(self,state,control,dt):\n",
    "        F = self.F(state,control,dt)\n",
    "        B = self.B(state,control,dt)\n",
    "        return F@state + B@control\n",
    "        \n",
    "    #@property\n",
    "    def F(self,state,control,dt):\n",
    "        return torch.eye(2) + self._F*dt\n",
    "        \n",
    "    #@property\n",
    "    def B(self,state,control,dt):\n",
    "        return self._B*dt\n",
    "        \n",
    "    @property\n",
    "    def Q(self):\n",
    "        return self._Q"
   ]
  },
  {
   "cell_type": "code",
   "execution_count": 115,
   "metadata": {},
   "outputs": [],
   "source": [
    "class ObsPosition_1d(nn.Module):\n",
    "    def __init__(self):\n",
    "        super().__init__()\n",
    "        self.dim_state = 2\n",
    "        self.dim_obs = 1\n",
    "        self._H = torch.FloatTensor([1,0]).view(1,-1)\n",
    "        self._R = torch.FloatTensor([0.5])\n",
    "        \n",
    "    def H(self,state):\n",
    "        return self._H\n",
    "\n",
    "    @property\n",
    "    def R(self):\n",
    "        return self._R\n",
    "    \n",
    "    def forward(self,state):\n",
    "        return self._H@state"
   ]
  },
  {
   "cell_type": "code",
   "execution_count": 116,
   "metadata": {},
   "outputs": [
    {
     "data": {
      "text/plain": [
       "tensor([[0., 2.]])"
      ]
     },
     "execution_count": 116,
     "metadata": {},
     "output_type": "execute_result"
    }
   ],
   "source": [
    "kin = Kinematic_1d()\n",
    "kin.B(1,1,2).T"
   ]
  },
  {
   "cell_type": "code",
   "execution_count": null,
   "metadata": {},
   "outputs": [],
   "source": []
  },
  {
   "cell_type": "code",
   "execution_count": 136,
   "metadata": {},
   "outputs": [],
   "source": [
    "class kalman_filter(nn.Module):\n",
    "    def __init__(self,plant,observer):\n",
    "        super().__init__()\n",
    "        self.plant = plant\n",
    "        self.observer = observer\n",
    "    \n",
    "    def _prediction(self,_state,control,dt,_P):\n",
    "        state_ = self.plant(_state,control,dt)\n",
    "        F = self.plant.F(_state,control,dt)\n",
    "        Q = self.plant.Q\n",
    "        P_ = F@_P@F.T + Q\n",
    "        return state_,P_\n",
    "    \n",
    "    def _filtering(self,_state,control,dt,_P,obs):\n",
    "        \n",
    "        H = self.observer.H(_state)\n",
    "        R = self.observer.R\n",
    "        \n",
    "        K = _P@H.T@(H@_P@H.T + R).inverse()\n",
    "\n",
    "        obs_pred = self.observer(_state)\n",
    "        \n",
    "        state_ = _state + K@(obs - obs_pred)\n",
    "        P_ = _P - K@H@_P\n",
    "        \n",
    "        return state_,P_\n",
    "        \n",
    "        \n",
    "    def _smoothing(self,state_p,state_f,_state_s,P_p,P_f,_P_s):\n",
    "        F = self.plant.F(_state,control,dt)\n",
    "        A = V_f@F.T@V_p.inverse()\n",
    "        state_s_ = state_f +A@(_state_s - state_p)\n",
    "        P_s_ = P_f + A@(_P_s - P_p)@A.T\n",
    "        return state_s,P_s_\n",
    "    \n",
    "    "
   ]
  },
  {
   "cell_type": "code",
   "execution_count": 137,
   "metadata": {},
   "outputs": [],
   "source": [
    "dt = 0.5\n",
    "x =  torch.arange(100)*dt + torch.randn(100)*0.5\n",
    "x[0] = 0\n",
    "v = torch.ones(100).float()\n",
    "states = torch.stack([x,v],dim=-1)\n",
    "controls = torch.zeros_like(x)\n",
    "\n",
    "#states"
   ]
  },
  {
   "cell_type": "code",
   "execution_count": 118,
   "metadata": {},
   "outputs": [],
   "source": [
    "P0 = torch.FloatTensor([[0.01,0],[0.,0.01]])\n",
    "s0 = states[0]\n",
    "c0 = controls[0]\n",
    "\n",
    "p_model = Kinematic_1d()\n",
    "o_model = ObsPosition_1d()\n",
    "kf = kalman_filter(p_model,o_model)\n"
   ]
  },
  {
   "cell_type": "code",
   "execution_count": 119,
   "metadata": {},
   "outputs": [
    {
     "data": {
      "text/plain": [
       "tensor([0., 1.])"
      ]
     },
     "execution_count": 119,
     "metadata": {},
     "output_type": "execute_result"
    }
   ],
   "source": [
    "s0"
   ]
  },
  {
   "cell_type": "code",
   "execution_count": 131,
   "metadata": {},
   "outputs": [
    {
     "data": {
      "text/plain": [
       "(torch.Size([2, 1]), torch.Size([2]))"
      ]
     },
     "execution_count": 131,
     "metadata": {},
     "output_type": "execute_result"
    }
   ],
   "source": [
    "s.size(),s0.size()"
   ]
  },
  {
   "cell_type": "code",
   "execution_count": 132,
   "metadata": {},
   "outputs": [
    {
     "ename": "IndexError",
     "evalue": "index 100 is out of bounds for dimension 0 with size 100",
     "output_type": "error",
     "traceback": [
      "\u001b[0;31m---------------------------------------------------------------------------\u001b[0m",
      "\u001b[0;31mIndexError\u001b[0m                                Traceback (most recent call last)",
      "\u001b[0;32m<ipython-input-132-a1dd8a33bcbb>\u001b[0m in \u001b[0;36m<module>\u001b[0;34m\u001b[0m\n\u001b[1;32m      5\u001b[0m \u001b[0;32mfor\u001b[0m \u001b[0mt\u001b[0m \u001b[0;32min\u001b[0m \u001b[0mrange\u001b[0m\u001b[0;34m(\u001b[0m\u001b[0;36m100\u001b[0m\u001b[0;34m)\u001b[0m\u001b[0;34m:\u001b[0m\u001b[0;34m\u001b[0m\u001b[0;34m\u001b[0m\u001b[0m\n\u001b[1;32m      6\u001b[0m     \u001b[0ms\u001b[0m\u001b[0;34m,\u001b[0m\u001b[0mp\u001b[0m \u001b[0;34m=\u001b[0m \u001b[0mkf\u001b[0m\u001b[0;34m.\u001b[0m\u001b[0m_prediction\u001b[0m\u001b[0;34m(\u001b[0m\u001b[0ms\u001b[0m\u001b[0;34m.\u001b[0m\u001b[0mview\u001b[0m\u001b[0;34m(\u001b[0m\u001b[0;36m2\u001b[0m\u001b[0;34m,\u001b[0m\u001b[0;36m1\u001b[0m\u001b[0;34m)\u001b[0m\u001b[0;34m,\u001b[0m\u001b[0mc0\u001b[0m\u001b[0;34m.\u001b[0m\u001b[0mview\u001b[0m\u001b[0;34m(\u001b[0m\u001b[0;36m1\u001b[0m\u001b[0;34m,\u001b[0m\u001b[0;36m1\u001b[0m\u001b[0;34m)\u001b[0m\u001b[0;34m,\u001b[0m\u001b[0mdt\u001b[0m\u001b[0;34m,\u001b[0m\u001b[0mp\u001b[0m\u001b[0;34m)\u001b[0m\u001b[0;34m\u001b[0m\u001b[0;34m\u001b[0m\u001b[0m\n\u001b[0;32m----> 7\u001b[0;31m     \u001b[0ms\u001b[0m\u001b[0;34m,\u001b[0m\u001b[0mp\u001b[0m \u001b[0;34m=\u001b[0m \u001b[0mkf\u001b[0m\u001b[0;34m.\u001b[0m\u001b[0m_filtering\u001b[0m\u001b[0;34m(\u001b[0m\u001b[0ms\u001b[0m\u001b[0;34m.\u001b[0m\u001b[0mview\u001b[0m\u001b[0;34m(\u001b[0m\u001b[0;36m2\u001b[0m\u001b[0;34m,\u001b[0m\u001b[0;36m1\u001b[0m\u001b[0;34m)\u001b[0m\u001b[0;34m,\u001b[0m\u001b[0mc0\u001b[0m\u001b[0;34m.\u001b[0m\u001b[0mview\u001b[0m\u001b[0;34m(\u001b[0m\u001b[0;36m1\u001b[0m\u001b[0;34m,\u001b[0m\u001b[0;36m1\u001b[0m\u001b[0;34m)\u001b[0m\u001b[0;34m,\u001b[0m\u001b[0mdt\u001b[0m\u001b[0;34m,\u001b[0m\u001b[0mp\u001b[0m\u001b[0;34m,\u001b[0m\u001b[0mstates\u001b[0m\u001b[0;34m[\u001b[0m\u001b[0mt\u001b[0m\u001b[0;34m+\u001b[0m\u001b[0;36m1\u001b[0m\u001b[0;34m,\u001b[0m\u001b[0;36m0\u001b[0m\u001b[0;34m]\u001b[0m\u001b[0;34m.\u001b[0m\u001b[0mview\u001b[0m\u001b[0;34m(\u001b[0m\u001b[0;36m1\u001b[0m\u001b[0;34m,\u001b[0m\u001b[0;36m1\u001b[0m\u001b[0;34m)\u001b[0m\u001b[0;34m)\u001b[0m\u001b[0;34m\u001b[0m\u001b[0;34m\u001b[0m\u001b[0m\n\u001b[0m\u001b[1;32m      8\u001b[0m \u001b[0;34m\u001b[0m\u001b[0m\n\u001b[1;32m      9\u001b[0m     \u001b[0mS\u001b[0m\u001b[0;34m.\u001b[0m\u001b[0mappend\u001b[0m\u001b[0;34m(\u001b[0m\u001b[0ms\u001b[0m\u001b[0;34m.\u001b[0m\u001b[0mview\u001b[0m\u001b[0;34m(\u001b[0m\u001b[0;34m-\u001b[0m\u001b[0;36m1\u001b[0m\u001b[0;34m)\u001b[0m\u001b[0;34m.\u001b[0m\u001b[0mdata\u001b[0m\u001b[0;34m.\u001b[0m\u001b[0mclone\u001b[0m\u001b[0;34m(\u001b[0m\u001b[0;34m)\u001b[0m\u001b[0;34m)\u001b[0m\u001b[0;34m\u001b[0m\u001b[0;34m\u001b[0m\u001b[0m\n",
      "\u001b[0;31mIndexError\u001b[0m: index 100 is out of bounds for dimension 0 with size 100"
     ]
    }
   ],
   "source": [
    "S = [s0]\n",
    "P = []\n",
    "p = P0\n",
    "s = s0\n",
    "for t in range(100):\n",
    "    s,p = kf._prediction(s.view(2,1),c0.view(1,1),dt,p)\n",
    "    s,p = kf._filtering(s.view(2,1),c0.view(1,1),dt,p,states[t+1,0].view(1,1))\n",
    "    \n",
    "    S.append(s.view(-1).data.clone())\n",
    "    P.append(p.data.clone())\n"
   ]
  },
  {
   "cell_type": "code",
   "execution_count": 133,
   "metadata": {},
   "outputs": [],
   "source": [
    "S = torch.stack(S,dim=0)"
   ]
  },
  {
   "cell_type": "code",
   "execution_count": 134,
   "metadata": {},
   "outputs": [
    {
     "data": {
      "text/plain": [
       "[<matplotlib.lines.Line2D at 0x7ff1e0d68910>]"
      ]
     },
     "execution_count": 134,
     "metadata": {},
     "output_type": "execute_result"
    },
    {
     "data": {
      "image/png": "[encoded data removed]",
      "text/plain": [
       "<Figure size 432x288 with 1 Axes>"
      ]
     },
     "metadata": {
      "needs_background": "light"
     },
     "output_type": "display_data"
    }
   ],
   "source": [
    "import matplotlib.pyplot as plt\n",
    "plt.plot(S[:,0][50:60])\n",
    "plt.plot(states[:,0][50:60])"
   ]
  },
  {
   "cell_type": "code",
   "execution_count": 125,
   "metadata": {},
   "outputs": [
    {
     "data": {
      "text/plain": [
       "torch.Size([99, 1])"
      ]
     },
     "execution_count": 125,
     "metadata": {},
     "output_type": "execute_result"
    }
   ],
   "source": [
    "S[:,0].size()"
   ]
  },
  {
   "cell_type": "code",
   "execution_count": null,
   "metadata": {},
   "outputs": [],
   "source": []
  },
  {
   "cell_type": "code",
   "execution_count": null,
   "metadata": {},
   "outputs": [],
   "source": []
  },
  {
   "cell_type": "code",
   "execution_count": null,
   "metadata": {},
   "outputs": [],
   "source": []
  }
 ],
 "metadata": {
  "kernelspec": {
   "display_name": "Python 3",
   "language": "python",
   "name": "python3"
  },
  "language_info": {
   "codemirror_mode": {
    "name": "ipython",
    "version": 3
   },
   "file_extension": ".py",
   "mimetype": "text/x-python",
   "name": "python",
   "nbconvert_exporter": "python",
   "pygments_lexer": "ipython3",
   "version": "3.7.4"
  }
 },
 "nbformat": 4,
 "nbformat_minor": 4
}
