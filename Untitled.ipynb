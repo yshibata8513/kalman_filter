{
 "cells": [
  {
   "cell_type": "code",
   "execution_count": 1,
   "metadata": {},
   "outputs": [],
   "source": [
    "import torch\n",
    "import torch.nn as nn\n",
    "import numpy as np"
   ]
  },
  {
   "cell_type": "code",
   "execution_count": 2,
   "metadata": {},
   "outputs": [],
   "source": [
    "class Kinematic_1d(nn.Module):\n",
    "    def __init__(self):\n",
    "        super().__init__()\n",
    "        self.dim_state = 2\n",
    "        self.dim_control = 1\n",
    "        self._F = torch.FloatTensor([[0,1],[0,0]])\n",
    "        self._B = torch.FloatTensor([0,1]).view(2,1)\n",
    "        self._Q = torch.FloatTensor([[0.01,0],[0.,0.01]])\n",
    "        \n",
    "    def forward(self,state,control,dt):\n",
    "        F = self.F(state,control,dt)\n",
    "        B = self.B(state,control,dt)\n",
    "        return F@state + B@control\n",
    "        \n",
    "    #@property\n",
    "    def F(self,state,control,dt):\n",
    "        return torch.eye(2) + self._F*dt\n",
    "        \n",
    "    #@property\n",
    "    def B(self,state,control,dt):\n",
    "        return self._B*dt\n",
    "        \n",
    "    @property\n",
    "    def Q(self):\n",
    "        return self._Q"
   ]
  },
  {
   "cell_type": "code",
   "execution_count": 3,
   "metadata": {},
   "outputs": [],
   "source": [
    "class ObsPosition_1d(nn.Module):\n",
    "    def __init__(self):\n",
    "        super().__init__()\n",
    "        self.dim_state = 2\n",
    "        self.dim_obs = 1\n",
    "        self._H = torch.FloatTensor([1,0]).view(1,-1)\n",
    "        self._R = torch.FloatTensor([0.5])\n",
    "        \n",
    "    def H(self,state):\n",
    "        return self._H\n",
    "\n",
    "    @property\n",
    "    def R(self):\n",
    "        return self._R\n",
    "    \n",
    "    def forward(self,state):\n",
    "        return self._H@state"
   ]
  },
  {
   "cell_type": "code",
   "execution_count": 4,
   "metadata": {},
   "outputs": [
    {
     "data": {
      "text/plain": [
       "tensor([[0., 2.]])"
      ]
     },
     "execution_count": 4,
     "metadata": {},
     "output_type": "execute_result"
    }
   ],
   "source": [
    "kin = Kinematic_1d()\n",
    "kin.B(1,1,2).T"
   ]
  },
  {
   "cell_type": "code",
   "execution_count": null,
   "metadata": {},
   "outputs": [],
   "source": []
  },
  {
   "cell_type": "code",
   "execution_count": 63,
   "metadata": {},
   "outputs": [],
   "source": [
    "class kalman_filter(nn.Module):\n",
    "    def __init__(self,plant,observer):\n",
    "        super().__init__()\n",
    "        self.plant = plant\n",
    "        self.observer = observer\n",
    "    \n",
    "    def _prediction(self,_state,control,dt,_P):\n",
    "        state_ = self.plant(_state,control,dt)\n",
    "        F = self.plant.F(_state,control,dt)\n",
    "        Q = self.plant.Q\n",
    "        P_ = F@_P@F.T + Q\n",
    "        return state_,P_\n",
    "    \n",
    "    def _filtering(self,_state,control,dt,_P,obs):\n",
    "        \n",
    "        H = self.observer.H(_state)\n",
    "        R = self.observer.R\n",
    "        \n",
    "        K = _P@H.T@(H@_P@H.T + R).inverse()\n",
    "\n",
    "        obs_pred = self.observer(_state)\n",
    "        \n",
    "        state_ = _state + K@(obs - obs_pred)\n",
    "        P_ = _P - K@H@_P\n",
    "        \n",
    "        return state_,P_\n",
    "        \n",
    "        \n",
    "    def _smoothing(self,state_p,state_f,_state_s,control,P_p,P_f,_P_s,dt):\n",
    "        F = self.plant.F(state_f,control,dt)\n",
    "        A = P_f@F.T@P_p.inverse()\n",
    "        state_s_ = state_f +A@(_state_s - state_p)\n",
    "        P_s_ = P_f + A@(_P_s - P_p)@A.T\n",
    "        return state_s_,P_s_\n",
    "    \n",
    "    "
   ]
  },
  {
   "cell_type": "code",
   "execution_count": 65,
   "metadata": {},
   "outputs": [],
   "source": [
    "dt = 0.5\n",
    "x =  torch.arange(100)*dt + torch.randn(100)*0.5\n",
    "x[0] = 0\n",
    "v = torch.ones(100).float()\n",
    "states = torch.stack([x,v],dim=-1)\n",
    "controls = torch.zeros_like(x)\n",
    "\n",
    "#states"
   ]
  },
  {
   "cell_type": "code",
   "execution_count": 66,
   "metadata": {},
   "outputs": [],
   "source": [
    "P0 = torch.FloatTensor([[0.01,0],[0.,0.01]])\n",
    "s0 = states[0]\n",
    "c0 = controls[0]\n",
    "\n",
    "p_model = Kinematic_1d()\n",
    "o_model = ObsPosition_1d()\n",
    "kf = kalman_filter(p_model,o_model)\n"
   ]
  },
  {
   "cell_type": "code",
   "execution_count": 67,
   "metadata": {},
   "outputs": [
    {
     "data": {
      "text/plain": [
       "tensor([0., 1.])"
      ]
     },
     "execution_count": 67,
     "metadata": {},
     "output_type": "execute_result"
    }
   ],
   "source": [
    "s0"
   ]
  },
  {
   "cell_type": "code",
   "execution_count": null,
   "metadata": {},
   "outputs": [],
   "source": []
  },
  {
   "cell_type": "code",
   "execution_count": 85,
   "metadata": {},
   "outputs": [
    {
     "data": {
      "text/plain": [
       "(99, 99, 99, 99)"
      ]
     },
     "execution_count": 85,
     "metadata": {},
     "output_type": "execute_result"
    }
   ],
   "source": [
    "Ss_p = []\n",
    "Ss_f = []\n",
    "Ps_p = []\n",
    "Ps_f = []\n",
    "p = P0\n",
    "s = s0\n",
    "for t in range(100-1):\n",
    "    s,p = kf._prediction(s.view(2,1),c0.view(1,1),dt,p)\n",
    "    Ss_p.append(s.data.clone())\n",
    "    Ps_p.append(p.data.clone())\n",
    "    \n",
    "    s,p = kf._filtering(s.view(2,1),c0.view(1,1),dt,p,states[t+1,0].view(1,1))\n",
    "    Ss_f.append(s.data.clone())\n",
    "    Ps_f.append(p.data.clone())\n",
    "    \n",
    "len(Ss_p),len(Ss_f),len(Ps_p),len(Ps_f)\n"
   ]
  },
  {
   "cell_type": "code",
   "execution_count": 86,
   "metadata": {},
   "outputs": [
    {
     "data": {
      "text/plain": [
       "1"
      ]
     },
     "execution_count": 86,
     "metadata": {},
     "output_type": "execute_result"
    }
   ],
   "source": [
    "s = Ss_f[-1]\n",
    "p = Ps_f[-1]\n",
    "Ss_s = [Ss_f[-1]]\n",
    "Ps_s = [Ps_f[-1]]\n",
    "\n",
    "for _t in range(98):\n",
    "    t = 99 - (_t + 1 )\n",
    "\n",
    "    s_p = Ss_p[t]\n",
    "    s_f = Ss_f[t-1]\n",
    "    P_p = Ps_p[t]\n",
    "    P_f = Ps_f[t-1]\n",
    "    s,p = kf._smoothing(s_p,s_f,s,c0,P_p,P_f,p,dt)\n",
    "    Ss_s.append(s.data.clone())\n",
    "    Ps_s.append(p.data.clone())\n",
    "\n",
    "\n",
    "\n",
    "t"
   ]
  },
  {
   "cell_type": "code",
   "execution_count": 87,
   "metadata": {},
   "outputs": [
    {
     "data": {
      "text/plain": [
       "(tensor([[49.6676],\n",
       "         [ 1.0429]]), tensor([[49.6676],\n",
       "         [ 1.0429]]))"
      ]
     },
     "execution_count": 87,
     "metadata": {},
     "output_type": "execute_result"
    }
   ],
   "source": [
    "Ss_f[-1],Ss_f[98]"
   ]
  },
  {
   "cell_type": "code",
   "execution_count": 88,
   "metadata": {},
   "outputs": [
    {
     "data": {
      "text/plain": [
       "(tensor([[0.4940],\n",
       "         [1.0021]]), tensor([[0.9959],\n",
       "         [1.0034]]))"
      ]
     },
     "execution_count": 88,
     "metadata": {},
     "output_type": "execute_result"
    }
   ],
   "source": [
    "Ss_s[-1],Ss_s[-2]"
   ]
  },
  {
   "cell_type": "code",
   "execution_count": 96,
   "metadata": {},
   "outputs": [],
   "source": [
    "_Ss_s = torch.stack(Ss_s,dim=0).view(-1,2).data.numpy()[::-1].copy()\n",
    "_Ss_f = torch.stack(Ss_f,dim=0)\n"
   ]
  },
  {
   "cell_type": "code",
   "execution_count": 100,
   "metadata": {},
   "outputs": [
    {
     "data": {
      "text/plain": [
       "[<matplotlib.lines.Line2D at 0x7f625b6ab390>]"
      ]
     },
     "execution_count": 100,
     "metadata": {},
     "output_type": "execute_result"
    },
    {
     "data": {
      "image/png": "[encoded data removed]",
      "text/plain": [
       "<Figure size 432x288 with 1 Axes>"
      ]
     },
     "metadata": {
      "needs_background": "light"
     },
     "output_type": "display_data"
    }
   ],
   "source": [
    "import matplotlib.pyplot as plt\n",
    "plt.plot(_Ss_s[:,0][:10])\n",
    "plt.plot(_Ss_f[:,0][:10])\n",
    "plt.plot(states[:,0][:10])"
   ]
  },
  {
   "cell_type": "code",
   "execution_count": 99,
   "metadata": {},
   "outputs": [
    {
     "data": {
      "text/plain": [
       "99"
      ]
     },
     "execution_count": 99,
     "metadata": {},
     "output_type": "execute_result"
    }
   ],
   "source": [
    "len(_Ss_s)"
   ]
  },
  {
   "cell_type": "code",
   "execution_count": null,
   "metadata": {},
   "outputs": [],
   "source": []
  },
  {
   "cell_type": "code",
   "execution_count": null,
   "metadata": {},
   "outputs": [],
   "source": []
  },
  {
   "cell_type": "code",
   "execution_count": null,
   "metadata": {},
   "outputs": [],
   "source": []
  }
 ],
 "metadata": {
  "kernelspec": {
   "display_name": "Python 3",
   "language": "python",
   "name": "python3"
  },
  "language_info": {
   "codemirror_mode": {
    "name": "ipython",
    "version": 3
   },
   "file_extension": ".py",
   "mimetype": "text/x-python",
   "name": "python",
   "nbconvert_exporter": "python",
   "pygments_lexer": "ipython3",
   "version": "3.7.4"
  }
 },
 "nbformat": 4,
 "nbformat_minor": 4
}
