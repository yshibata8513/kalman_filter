{
 "cells": [
  {
   "cell_type": "markdown",
   "metadata": {
    "colab_type": "text",
    "id": "view-in-github"
   },
   "source": [
    "<a href=\"https://colab.research.google.com/github/yshibata8513/kalman_filter/blob/master/0808_smoothing.ipynb\" target=\"_parent\"><img src=\"https://colab.research.google.com/assets/colab-badge.svg\" alt=\"Open In Colab\"/></a>"
   ]
  },
  {
   "cell_type": "code",
   "execution_count": 1,
   "metadata": {
    "colab": {},
    "colab_type": "code",
    "id": "_DippiVVsgC2"
   },
   "outputs": [],
   "source": [
    "import torch\n",
    "import torch.nn as nn\n",
    "import numpy as np"
   ]
  },
  {
   "cell_type": "code",
   "execution_count": null,
   "metadata": {
    "colab": {},
    "colab_type": "code",
    "id": "FR7Pw52EsgC9"
   },
   "outputs": [],
   "source": []
  },
  {
   "cell_type": "code",
   "execution_count": 2,
   "metadata": {
    "colab": {},
    "colab_type": "code",
    "id": "dG7w7J7MsgDB"
   },
   "outputs": [],
   "source": [
    "class BasePlantModel(nn.Module):\n",
    "    \n",
    "    def __init__(self,use_control,Q):\n",
    "        super().__init__()\n",
    "        self.use_control = use_control\n",
    "        self._Q = Q\n",
    "    \n",
    "    def forward(self,**argv):\n",
    "        raise NotImplementedError()\n",
    "        \n",
    "    def F(self,state,control,dt):\n",
    "        _state = torch.nn.Parameter(state.data.clone())\n",
    "        if self.use_control:\n",
    "            control = control.data.clone()\n",
    "        state_ = self.forward(_state,control,dt)\n",
    "        F = torch.cat([torch.autograd.grad(outputs=s_, inputs=_state, create_graph=False, retain_graph=True)[0].view(1,-1) for s_ in state_],dim=0)\n",
    "        return F\n",
    "    \n",
    "    def B(self,state,control,dt):\n",
    "        if self.use_control==False:\n",
    "            return None\n",
    "        _state = state.data.clone()\n",
    "        control = torch.nn.Parameter(control.data.clone())\n",
    "        state_ = self.forward(_state,control,dt)\n",
    "        B = torch.cat([torch.autograd.grad(outputs=c, inputs=_state, create_graph=False, retain_graph=True)[0].view(1,-1) for c in control],dim=0)\n",
    "        return B\n",
    "\n",
    "    @property\n",
    "    def Q(self):\n",
    "        return self._Q.data.clone()"
   ]
  },
  {
   "cell_type": "code",
   "execution_count": 3,
   "metadata": {
    "colab": {},
    "colab_type": "code",
    "id": "755j5YIKsgDF"
   },
   "outputs": [],
   "source": [
    "class BaseObserverModel(nn.Module):\n",
    "    \n",
    "    def __init__(self,R):\n",
    "        super().__init__()\n",
    "        self._R = R\n",
    "    \n",
    "    def forward(self,**argv):\n",
    "        raise NotImplementedError()\n",
    "        \n",
    "    def H(self,state):\n",
    "        _state = torch.nn.Parameter(state.data.clone())\n",
    "\n",
    "        obs = self.forward(_state)\n",
    "        #H = torch.autograd.grad(outputs=obs, inputs=_state, create_graph=False)\n",
    "        H = torch.cat([torch.autograd.grad(outputs=o, inputs=_state, create_graph=False, retain_graph=True)[0].view(1,-1) for o in obs],dim=0)\n",
    "        return H\n",
    "    \n",
    "    @property\n",
    "    def R(self):\n",
    "        return self._R.data.clone()"
   ]
  },
  {
   "cell_type": "code",
   "execution_count": 4,
   "metadata": {
    "colab": {},
    "colab_type": "code",
    "id": "331kh9uEsgDJ"
   },
   "outputs": [],
   "source": [
    "class PathPlantModel(BasePlantModel):\n",
    "    def __init__(self):\n",
    "        super().__init__(use_control=False,Q=torch.FloatTensor([[0.01,0,0,0,0]\n",
    "                                                                ,[0.,0.01,0,0,0]\n",
    "                                                                ,[0,0,0.01,0,0]\n",
    "                                                                ,[0,0,0,0.01,0]\n",
    "                                                                ,[0,0,0,0,0.1]]))\n",
    "        self.dim_state = 5\n",
    "        \n",
    "    def forward(self,state,control,dt):\n",
    "       \n",
    "        theta = state[2]\n",
    "        kappa = state[3]\n",
    "        kappa_dot = state[4]\n",
    "        \n",
    "        dx = dt*torch.cos(theta)\n",
    "        dy = dt*torch.sin(theta)\n",
    "        dtheta = dt*kappa\n",
    "        dkappa = dt*kappa_dot\n",
    "        dkappa_dot = torch.zeros_like(dx)\n",
    "        \n",
    "        dstate = torch.cat([dx,dy,dtheta,dkappa,dkappa_dot],dim=-1).view(-1,1)\n",
    "    \n",
    "        return state + dstate\n",
    "        "
   ]
  },
  {
   "cell_type": "code",
   "execution_count": 5,
   "metadata": {
    "colab": {},
    "colab_type": "code",
    "id": "DaWUe37SsgDN"
   },
   "outputs": [],
   "source": [
    "class ObserverXY(BaseObserverModel):\n",
    "    def __init__(self,R=torch.FloatTensor([[0.1,0],[0,0.1]])):\n",
    "        super().__init__(R)\n",
    "        self.dim_state = 5\n",
    "        self.dim_obs = 2\n",
    "        self._H = torch.FloatTensor([[1,0,0,0,0],[0,1,0,0,0]])\n",
    "\n",
    "    @property\n",
    "    def R(self):\n",
    "        return self._R\n",
    "    \n",
    "    def forward(self,state):\n",
    "        return self._H@state"
   ]
  },
  {
   "cell_type": "code",
   "execution_count": 6,
   "metadata": {
    "colab": {},
    "colab_type": "code",
    "id": "Er0LgDqIsgDQ"
   },
   "outputs": [],
   "source": [
    "class ObserverXYK(BaseObserverModel):\n",
    "    def __init__(self,R=torch.FloatTensor([[0.1,0,0],[0,0.1,0],[0,0,0.01]])):\n",
    "        super().__init__(R)\n",
    "        self.dim_state = 5\n",
    "        self.dim_obs = 2\n",
    "        self._H = torch.FloatTensor([[1,0,0,0,0],[0,1,0,0,0],[0,0,0,1,0]])\n",
    "\n",
    "    @property\n",
    "    def R(self):\n",
    "        return self._R\n",
    "    \n",
    "    def forward(self,state):\n",
    "        return self._H@state"
   ]
  },
  {
   "cell_type": "code",
   "execution_count": null,
   "metadata": {
    "colab": {},
    "colab_type": "code",
    "id": "CNzuIVirsgDW"
   },
   "outputs": [],
   "source": []
  },
  {
   "cell_type": "code",
   "execution_count": null,
   "metadata": {
    "colab": {},
    "colab_type": "code",
    "id": "mc59bEnosgDa"
   },
   "outputs": [],
   "source": []
  },
  {
   "cell_type": "code",
   "execution_count": null,
   "metadata": {
    "colab": {},
    "colab_type": "code",
    "id": "DnKrolg1sgDe"
   },
   "outputs": [],
   "source": []
  },
  {
   "cell_type": "code",
   "execution_count": 7,
   "metadata": {
    "colab": {},
    "colab_type": "code",
    "id": "mqOlgFx-sgDh"
   },
   "outputs": [],
   "source": [
    "class KalmanFilterCalculator(nn.Module):\n",
    "    def __init__(self,plant,observer):\n",
    "        super().__init__()\n",
    "        self.plant = plant\n",
    "        self.observer = observer\n",
    "    \n",
    "    def _prediction(self,_state,control,dt,_P):\n",
    "        state_ = self.plant(_state,control,dt)\n",
    "        F = self.plant.F(_state,control,dt)\n",
    "        Q = self.plant.Q\n",
    "        P_ = F@_P@F.T + Q\n",
    "        return state_,P_\n",
    "    \n",
    "    def _filtering(self,_state,dt,_P,obs):\n",
    "        \n",
    "        H = self.observer.H(_state)\n",
    "        R = self.observer.R\n",
    "        \n",
    "        K = _P@H.T@(H@_P@H.T + R).inverse()\n",
    "\n",
    "        obs_pred = self.observer(_state)\n",
    "        \n",
    "        state_ = _state + K@(obs - obs_pred)\n",
    "        P_ = _P - K@H@_P\n",
    "        \n",
    "        return state_,P_\n",
    "        \n",
    "        \n",
    "    def _smoothing(self,state_p,state_f,_state_s,control,P_p,P_f,_P_s,dt):\n",
    "        F = self.plant.F(state_f,control,dt)\n",
    "        A = P_f@F.T@P_p.inverse()\n",
    "\n",
    "        state_s_ = state_f +A@(_state_s - state_p)\n",
    "        P_s_ = P_f + A@(_P_s - P_p)@A.T\n",
    "        return state_s_,P_s_\n",
    "    \n",
    "    "
   ]
  },
  {
   "cell_type": "code",
   "execution_count": 8,
   "metadata": {
    "colab": {},
    "colab_type": "code",
    "id": "NM_StjQTsgDk"
   },
   "outputs": [],
   "source": [
    "class KalamanFilter:\n",
    "    def __init__(self,calculator):\n",
    "        self.calculator = calculator\n",
    "        \n",
    "    def filtering(self,s_init,P_init,dts,observations,controls=None):\n",
    "        Ss_p = [s_init.view(-1,1)]\n",
    "        Ss_f = [s_init.view(-1,1)]\n",
    "        Ps_p = [P_init]\n",
    "        Ps_f = [P_init]\n",
    "        p = P_init\n",
    "        s = s_init\n",
    "        T = len(observations)\n",
    "        if controls == None:\n",
    "          controls = torch.zeros(T)\n",
    "        for t in range(T):\n",
    "            dt = dts[t]\n",
    "            c = controls[t]\n",
    "            obs = observations[t].view(-1,1)\n",
    "            s,p = self.calculator._prediction(s.view(-1,1),c.view(-1,1),dt,p)\n",
    "            if True:\n",
    "                Ss_p.append(s.data.clone())\n",
    "                Ps_p.append(p.data.clone())\n",
    "                s,p = self.calculator._filtering(s.view(-1,1),dt,p,obs)\n",
    "            Ss_f.append(s.data.clone())\n",
    "            Ps_f.append(p.data.clone())\n",
    "        Ss_p = torch.cat([s.view(1,-1) for s in Ss_p])\n",
    "        Ss_f = torch.cat([s.view(1,-1) for s in Ss_f])\n",
    "        h = w = Ps_p[0].size()[0]\n",
    "        Ps_p = torch.cat([s.view(1,h,w) for s in Ps_p])\n",
    "        Ps_f = torch.cat([s.view(1,h,w) for s in Ps_f])\n",
    "        return Ss_p,Ps_p,Ss_f,Ps_f\n",
    "\n",
    "    def smoothing(self,dts,Ss_p,Ss_f,Ps_p,Ps_f,controls=None):\n",
    "        \n",
    "        s = Ss_f[-1]\n",
    "        p = Ps_f[-1]\n",
    "        Ss_s = [Ss_f[-1]]\n",
    "        Ps_s = [Ps_f[-1]]\n",
    "        T = len(Ss_p) - 1\n",
    "        \n",
    "        for _t in range(T):\n",
    "            t = T - _t\n",
    "            dt = dts[t-1]\n",
    "            s_p = Ss_p[t]\n",
    "            s_f = Ss_f[t-1]\n",
    "            P_p = Ps_p[t]\n",
    "            P_f = Ps_f[t-1]\n",
    "            if controls is not None:\n",
    "                c = controls[t-1].view(-1,1)\n",
    "            else:\n",
    "                c = None\n",
    "            s,p = self.calculator._smoothing(s_p.view(-1,1),s_f.view(-1,1),s.view(-1,1),c,P_p,P_f,p,dt)\n",
    "            \n",
    "                \n",
    "            #print(s.size())\n",
    "            Ss_s.append(s.data.clone())\n",
    "            Ps_s.append(p.data.clone())\n",
    "\n",
    "        Ss_s = torch.Tensor(np.array(torch.cat([s.view(1,-1) for s in Ss_s]))[::-1].copy())\n",
    "\n",
    "        h = w = Ps_p[0].size()[0]\n",
    "        Ps_s = torch.Tensor(np.array(torch.cat([s.view(1,h,w) for s in Ps_s]))[::-1].copy())\n",
    "        return Ss_s,Ps_s \n",
    "    "
   ]
  },
  {
   "cell_type": "code",
   "execution_count": null,
   "metadata": {},
   "outputs": [],
   "source": []
  },
  {
   "cell_type": "code",
   "execution_count": 9,
   "metadata": {},
   "outputs": [],
   "source": [
    "def CreatePathFromKappaDot(dss,kappa_dot,x0=0,y0=0,theta0=0,kappa0=0):\n",
    "    x0 = torch.Tensor([x0]).view(1)\n",
    "    y0 = torch.Tensor([y0]).view(1)\n",
    "    theta0 = torch.Tensor([theta0]).view(1)\n",
    "    kappa0 = torch.Tensor([kappa0]).view(1)\n",
    "    \n",
    "    \n",
    "    xs = [x0]\n",
    "    ys = [y0]\n",
    "    thetas = [theta0]\n",
    "    kappas = [kappa0]\n",
    "    x = x0\n",
    "    y = y0\n",
    "    theta = theta0\n",
    "    kappa = kappa0\n",
    "    for ds,kd in zip(dss,kappa_dot):\n",
    "        x = x + ds*torch.cos(theta)\n",
    "        y = y + ds*torch.sin(theta)\n",
    "        theta = theta + ds*kappa\n",
    "        kappa = kappa + ds*kd\n",
    "        xs.append(x)\n",
    "        ys.append(y)\n",
    "        thetas.append(theta)\n",
    "        kappas.append(kappa)\n",
    "    xs = torch.Tensor(xs)\n",
    "    ys = torch.Tensor(ys)\n",
    "    thetas = torch.Tensor(thetas)\n",
    "    kappas = torch.Tensor(kappas)\n",
    "    \n",
    "    return xs,ys,thetas,kappas"
   ]
  },
  {
   "cell_type": "code",
   "execution_count": 20,
   "metadata": {},
   "outputs": [
    {
     "name": "stdout",
     "output_type": "stream",
     "text": [
      "torch.Size([100])\n"
     ]
    },
    {
     "data": {
      "text/plain": [
       "(tensor([[0.0000],\n",
       "         [0.0000],\n",
       "         [0.0000],\n",
       "         [0.0000],\n",
       "         [0.0300]]), torch.Size([99, 3]))"
      ]
     },
     "execution_count": 20,
     "metadata": {},
     "output_type": "execute_result"
    }
   ],
   "source": [
    "N = 100\n",
    "\n",
    "dts = torch.ones(N-1)*0.1\n",
    "kappa_dot = torch.ones(N-1)*0.03\n",
    "\n",
    "xs,ys,thetas,kappas = CreatePathFromKappaDot(dts,kappa_dot) \n",
    "print(xs.size())\n",
    "nx= torch.randn(N-1)*0.1\n",
    "ny= torch.randn(N-1)*0.1\n",
    "nk = torch.randn(N-1)*0.01\n",
    "observations = torch.stack([xs[1:]+nx,ys[1:]+ny,kappas[1:]+nk],dim=-1)\n",
    "state0 = torch.Tensor([xs[0],ys[0],thetas[0],kappas[0],kappa_dot[0]]).view(-1,1)\n",
    "state0,observations.size()"
   ]
  },
  {
   "cell_type": "code",
   "execution_count": 21,
   "metadata": {},
   "outputs": [],
   "source": [
    "P0 = torch.FloatTensor([ [0.1,0  ,0  ,0  ,0]\n",
    "                        ,[0  ,0.1,0  ,0  ,0]\n",
    "                        ,[0  ,0  ,0.3,0  ,0]\n",
    "                        ,[0  ,0  ,0  ,0.3,0]\n",
    "                        ,[0  ,0  ,0  ,0  ,0.3]])"
   ]
  },
  {
   "cell_type": "code",
   "execution_count": 22,
   "metadata": {},
   "outputs": [],
   "source": [
    "s0 = state0\n",
    "#c0 = controls[0]\n",
    "\n",
    "p_model = PathPlantModel()\n",
    "o_model = ObserverXYK()\n",
    "kfc = KalmanFilterCalculator(p_model,o_model)\n",
    "kf = KalamanFilter(kfc)\n",
    "#dts = torch.ones(99)*0.5\n",
    "\n"
   ]
  },
  {
   "cell_type": "code",
   "execution_count": 23,
   "metadata": {},
   "outputs": [],
   "source": [
    "# sss = [s0]\n",
    "# s = s0\n",
    "# for i in range(99):\n",
    "#     s = p_model(s,None,0.1)\n",
    "#     sss.append(s)\n",
    "# sss = torch.stack(sss,dim=0)"
   ]
  },
  {
   "cell_type": "code",
   "execution_count": 24,
   "metadata": {
    "colab": {},
    "colab_type": "code",
    "id": "qrWDqCAosgDp"
   },
   "outputs": [
    {
     "data": {
      "text/plain": [
       "(tensor([[ 2.5860e+01,  3.1064e-01,  7.0020e+00, -3.4502e-01,  1.6077e-02],\n",
       "         [ 3.1064e-01,  2.6930e+01, -1.6493e+00,  8.4447e-02, -4.5626e-03],\n",
       "         [ 7.0020e+00, -1.6493e+00,  9.1876e+00, -5.0190e-01,  4.5077e-02],\n",
       "         [-3.4502e-01,  8.4447e-02, -5.0190e-01,  5.5506e+01, -6.2952e+00],\n",
       "         [ 1.6077e-02, -4.5626e-03,  4.5077e-02, -6.2952e+00,  2.6394e+00]]),\n",
       " tensor([[ 3.2834e-02, -1.4050e-03, -2.5277e-02,  1.4509e-06,  2.3273e-04],\n",
       "         [-1.4050e-03,  2.7357e-02,  5.9819e-03, -5.9938e-07, -4.7744e-05],\n",
       "         [-2.5277e-02,  5.9819e-03,  1.2920e-01,  3.0439e-04, -1.3163e-03],\n",
       "         [ 1.4509e-06, -5.9938e-07,  3.0439e-04,  7.1188e-03,  1.6974e-02],\n",
       "         [ 2.3273e-04, -4.7744e-05, -1.3163e-03,  1.6974e-02,  4.1939e-01]]))"
      ]
     },
     "execution_count": 24,
     "metadata": {},
     "output_type": "execute_result"
    }
   ],
   "source": [
    "Ps_p[-2].inverse(),Ps_f[-2]\n"
   ]
  },
  {
   "cell_type": "code",
   "execution_count": 25,
   "metadata": {
    "colab": {},
    "colab_type": "code",
    "id": "3I61bGUPsgDs"
   },
   "outputs": [
    {
     "data": {
      "text/plain": [
       "(tensor(0.5194), tensor(0.4194), tensor(155.5056), tensor(55.5056))"
      ]
     },
     "execution_count": 25,
     "metadata": {},
     "output_type": "execute_result"
    }
   ],
   "source": [
    "Ps_p[70].max(),Ps_f[70].max(),Ps_f[70].inverse().max(),Ps_p[70].inverse().max()"
   ]
  },
  {
   "cell_type": "code",
   "execution_count": 26,
   "metadata": {
    "colab": {
     "base_uri": "https://localhost:8080/",
     "height": 52
    },
    "colab_type": "code",
    "id": "2VUAH89dsgDw",
    "outputId": "22937f46-b7d7-4108-8f54-750221ceef0d"
   },
   "outputs": [
    {
     "name": "stdout",
     "output_type": "stream",
     "text": [
      "torch.Size([100, 5]) torch.Size([100, 5, 5]) torch.Size([100, 5]) torch.Size([100, 5, 5])\n"
     ]
    },
    {
     "data": {
      "text/plain": [
       "torch.Size([100, 5])"
      ]
     },
     "execution_count": 26,
     "metadata": {},
     "output_type": "execute_result"
    }
   ],
   "source": [
    "Ss_p,Ps_p,Ss_f,Ps_f = kf.filtering(s0,P0,dts,observations)\n",
    "print(Ss_p.size(),Ps_p.size(),Ss_f.size(),Ps_f.size())\n",
    "Ss_s,Ps_s =  kf.smoothing(dts=dts,Ss_p=Ss_p,Ps_p=Ps_p,Ss_f=Ss_f,Ps_f=Ps_f)\n",
    "Ss_s.size()"
   ]
  },
  {
   "cell_type": "code",
   "execution_count": 27,
   "metadata": {
    "colab": {
     "base_uri": "https://localhost:8080/",
     "height": 282
    },
    "colab_type": "code",
    "id": "14wR9EnZuVBN",
    "outputId": "411c0a31-f269-4e0f-a5db-745f2f765ea1"
   },
   "outputs": [
    {
     "data": {
      "text/plain": [
       "[<matplotlib.lines.Line2D at 0x1e565fada58>]"
      ]
     },
     "execution_count": 27,
     "metadata": {},
     "output_type": "execute_result"
    },
    {
     "data": {
      "image/png": "[encoded data removed]",
      "text/plain": [
       "<Figure size 432x288 with 1 Axes>"
      ]
     },
     "metadata": {
      "needs_background": "light"
     },
     "output_type": "display_data"
    }
   ],
   "source": [
    "import matplotlib.pyplot as plt\n",
    "\n",
    "plt.plot(Ss_f[...,0],Ss_f[...,1])\n",
    "plt.plot(observations[...,0],observations[...,1])\n",
    "#plt.plot(Ss_s[1:21,0])\n",
    "#plt.plot(xs,ys)"
   ]
  },
  {
   "cell_type": "code",
   "execution_count": 28,
   "metadata": {},
   "outputs": [
    {
     "data": {
      "text/plain": [
       "[<matplotlib.lines.Line2D at 0x1e566007320>]"
      ]
     },
     "execution_count": 28,
     "metadata": {},
     "output_type": "execute_result"
    },
    {
     "data": {
      "image/png": "[encoded data removed]",
      "text/plain": [
       "<Figure size 432x288 with 1 Axes>"
      ]
     },
     "metadata": {
      "needs_background": "light"
     },
     "output_type": "display_data"
    }
   ],
   "source": [
    "plt.plot(Ss_f[...,-1])\n",
    "plt.plot(Ss_s[...,-1])"
   ]
  },
  {
   "cell_type": "code",
   "execution_count": 29,
   "metadata": {
    "colab": {},
    "colab_type": "code",
    "id": "ImogEldPbyph"
   },
   "outputs": [
    {
     "data": {
      "text/plain": [
       "[<matplotlib.lines.Line2D at 0x1e5660875f8>]"
      ]
     },
     "execution_count": 29,
     "metadata": {},
     "output_type": "execute_result"
    },
    {
     "data": {
      "image/png": "[encoded data removed]",
      "text/plain": [
       "<Figure size 432x288 with 1 Axes>"
      ]
     },
     "metadata": {
      "needs_background": "light"
     },
     "output_type": "display_data"
    }
   ],
   "source": [
    "plt.plot(Ss_f[...,0],Ss_f[...,1])\n",
    "plt.plot(Ss_s[...,0],Ss_s[...,1])\n",
    "\n",
    "#plt.plot(xs,ys)"
   ]
  },
  {
   "cell_type": "code",
   "execution_count": 30,
   "metadata": {
    "colab": {},
    "colab_type": "code",
    "id": "yp93mDZywTil"
   },
   "outputs": [],
   "source": [
    "\n",
    "#plt.plot(observations[:20])"
   ]
  },
  {
   "cell_type": "code",
   "execution_count": 31,
   "metadata": {
    "colab": {},
    "colab_type": "code",
    "id": "6EzTUshqsgDz"
   },
   "outputs": [
    {
     "ename": "NameError",
     "evalue": "name '_Ss_p' is not defined",
     "output_type": "error",
     "traceback": [
      "\u001b[1;31m---------------------------------------------------------------------------\u001b[0m",
      "\u001b[1;31mNameError\u001b[0m                                 Traceback (most recent call last)",
      "\u001b[1;32m<ipython-input-31-91c6c58a8324>\u001b[0m in \u001b[0;36m<module>\u001b[1;34m\u001b[0m\n\u001b[0;32m      1\u001b[0m \u001b[1;31m#_Ss_p = torch.cat(Ss_p[1:],dim=0)\u001b[0m\u001b[1;33m\u001b[0m\u001b[1;33m\u001b[0m\u001b[1;33m\u001b[0m\u001b[0m\n\u001b[1;32m----> 2\u001b[1;33m \u001b[0mplt\u001b[0m\u001b[1;33m.\u001b[0m\u001b[0mplot\u001b[0m\u001b[1;33m(\u001b[0m\u001b[0m_Ss_p\u001b[0m\u001b[1;33m[\u001b[0m\u001b[1;36m1\u001b[0m\u001b[1;33m:\u001b[0m\u001b[1;36m20\u001b[0m\u001b[1;33m,\u001b[0m\u001b[1;36m0\u001b[0m\u001b[1;33m]\u001b[0m\u001b[1;33m)\u001b[0m\u001b[1;33m\u001b[0m\u001b[1;33m\u001b[0m\u001b[0m\n\u001b[0m\u001b[0;32m      3\u001b[0m \u001b[0mplt\u001b[0m\u001b[1;33m.\u001b[0m\u001b[0mplot\u001b[0m\u001b[1;33m(\u001b[0m\u001b[0m_Ss_f\u001b[0m\u001b[1;33m[\u001b[0m\u001b[1;36m1\u001b[0m\u001b[1;33m:\u001b[0m\u001b[1;36m20\u001b[0m\u001b[1;33m,\u001b[0m\u001b[1;36m0\u001b[0m\u001b[1;33m]\u001b[0m\u001b[1;33m)\u001b[0m\u001b[1;33m\u001b[0m\u001b[1;33m\u001b[0m\u001b[0m\n\u001b[0;32m      4\u001b[0m \u001b[0mplt\u001b[0m\u001b[1;33m.\u001b[0m\u001b[0mplot\u001b[0m\u001b[1;33m(\u001b[0m\u001b[0m_Ss_a\u001b[0m\u001b[1;33m[\u001b[0m\u001b[1;36m1\u001b[0m\u001b[1;33m:\u001b[0m\u001b[1;36m20\u001b[0m\u001b[1;33m]\u001b[0m\u001b[1;33m)\u001b[0m\u001b[1;33m\u001b[0m\u001b[1;33m\u001b[0m\u001b[0m\n\u001b[0;32m      5\u001b[0m \u001b[0mplt\u001b[0m\u001b[1;33m.\u001b[0m\u001b[0mplot\u001b[0m\u001b[1;33m(\u001b[0m\u001b[0mobservations\u001b[0m\u001b[1;33m[\u001b[0m\u001b[1;33m:\u001b[0m\u001b[1;36m19\u001b[0m\u001b[1;33m]\u001b[0m\u001b[1;33m)\u001b[0m\u001b[1;33m\u001b[0m\u001b[1;33m\u001b[0m\u001b[0m\n",
      "\u001b[1;31mNameError\u001b[0m: name '_Ss_p' is not defined"
     ]
    }
   ],
   "source": [
    "#_Ss_p = torch.cat(Ss_p[1:],dim=0)\n",
    "plt.plot(_Ss_p[1:20,0])\n",
    "plt.plot(_Ss_f[1:20,0])\n",
    "plt.plot(_Ss_a[1:20])\n",
    "plt.plot(observations[:19])"
   ]
  },
  {
   "cell_type": "code",
   "execution_count": null,
   "metadata": {
    "colab": {},
    "colab_type": "code",
    "id": "4fr3xvgRsgD2"
   },
   "outputs": [],
   "source": [
    "# Ss_p = []\n",
    "# Ss_f = []\n",
    "# Ps_p = []\n",
    "# Ps_f = []\n",
    "# p = P0\n",
    "# s = s0\n",
    "# for t in range(100-1):\n",
    "#     s,p = kf._prediction(s.view(2,1),c0.view(1,1),dt,p)\n",
    "#     Ss_p.append(s.data.clone())\n",
    "#     Ps_p.append(p.data.clone())\n",
    "    \n",
    "#     s,p = kf._filtering(s.view(2,1),c0.view(1,1),dt,p,states[t+1,0].view(1,1))\n",
    "#     Ss_f.append(s.data.clone())\n",
    "#     Ps_f.append(p.data.clone())\n",
    "    \n",
    "# len(Ss_p),len(Ss_f),len(Ps_p),len(Ps_f)\n"
   ]
  },
  {
   "cell_type": "code",
   "execution_count": null,
   "metadata": {
    "colab": {},
    "colab_type": "code",
    "id": "cbGj61TExx--"
   },
   "outputs": [],
   "source": [
    "Ss_p[1].size(),Ss_p[2].size(),Ss_f[0].size(),Ss_f[1].size()"
   ]
  },
  {
   "cell_type": "code",
   "execution_count": null,
   "metadata": {
    "colab": {},
    "colab_type": "code",
    "id": "KRWWlHkKsgD6"
   },
   "outputs": [],
   "source": [
    "s = Ss_f[-1]\n",
    "p = Ps_f[-1]\n",
    "Ss_s = [Ss_f[-1]]\n",
    "Ps_s = [Ps_f[-1]]\n",
    "\n",
    "for _t in range(99):\n",
    "    t = 99 - (_t )\n",
    "\n",
    "    \n",
    "\n",
    "    s_p = Ss_p[t]\n",
    "    s_f = Ss_f[t-1]\n",
    "    P_p = Ps_p[t]\n",
    "    P_f = Ps_f[t-1]\n",
    "    s,p = kfc._smoothing(s_p,s_f,s,c0.view(1,1),P_p,P_f,p,dt)\n",
    "    Ss_s.append(s.data.clone())\n",
    "\n",
    "\n",
    "    Ps_s.append(p.data.clone())\n",
    "\n"
   ]
  },
  {
   "cell_type": "code",
   "execution_count": null,
   "metadata": {
    "colab": {},
    "colab_type": "code",
    "id": "eczLn2ThsgD_"
   },
   "outputs": [],
   "source": [
    "#_Ss_f = torch.cat([s.view(1,-1) for s in Ss_f],dim=0)\n"
   ]
  },
  {
   "cell_type": "code",
   "execution_count": null,
   "metadata": {
    "colab": {},
    "colab_type": "code",
    "id": "Wf--w_JPsgED"
   },
   "outputs": [],
   "source": [
    "plt.plot(_Ss_f[:20,0])\n",
    "plt.plot(_Ss_s[:20,0]),len(_Ss_f),len(_Ss_s)"
   ]
  },
  {
   "cell_type": "code",
   "execution_count": null,
   "metadata": {
    "colab": {},
    "colab_type": "code",
    "id": "ee0DFCeSsgEG"
   },
   "outputs": [],
   "source": [
    "_Ss_s = torch.stack(Ss_s,dim=0).view(-1,2).data.numpy()[::-1].copy()\n",
    "_Ss_f = torch.stack(Ss_f,dim=0)\n"
   ]
  },
  {
   "cell_type": "code",
   "execution_count": null,
   "metadata": {
    "colab": {},
    "colab_type": "code",
    "id": "yyXgqQhLsgEJ"
   },
   "outputs": [],
   "source": [
    "import matplotlib.pyplot as plt\n",
    "plt.plot(_Ss_s[:,0][:10])\n",
    "plt.plot(_Ss_f[:,0][:10])\n",
    "plt.plot(states[:,0][1:11])"
   ]
  },
  {
   "cell_type": "code",
   "execution_count": null,
   "metadata": {
    "colab": {},
    "colab_type": "code",
    "id": "Pni4ksiPsgEM"
   },
   "outputs": [],
   "source": [
    "len(_Ss_s)"
   ]
  },
  {
   "cell_type": "code",
   "execution_count": null,
   "metadata": {
    "colab": {},
    "colab_type": "code",
    "id": "-VLR488gsgEP"
   },
   "outputs": [],
   "source": []
  },
  {
   "cell_type": "code",
   "execution_count": null,
   "metadata": {
    "colab": {},
    "colab_type": "code",
    "id": "h0NJ1jUosgEV"
   },
   "outputs": [],
   "source": []
  },
  {
   "cell_type": "code",
   "execution_count": null,
   "metadata": {
    "colab": {},
    "colab_type": "code",
    "id": "R5eivKPtsgEY"
   },
   "outputs": [],
   "source": []
  }
 ],
 "metadata": {
  "colab": {
   "include_colab_link": true,
   "name": "Untitled.ipynb",
   "provenance": []
  },
  "kernelspec": {
   "display_name": "Python 3",
   "language": "python",
   "name": "python3"
  },
  "language_info": {
   "codemirror_mode": {
    "name": "ipython",
    "version": 3
   },
   "file_extension": ".py",
   "mimetype": "text/x-python",
   "name": "python",
   "nbconvert_exporter": "python",
   "pygments_lexer": "ipython3",
   "version": "3.7.3"
  }
 },
 "nbformat": 4,
 "nbformat_minor": 4
}
